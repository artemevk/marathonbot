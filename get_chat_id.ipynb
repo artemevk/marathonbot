{
 "cells": [
  {
   "cell_type": "markdown",
   "metadata": {},
   "source": [
    "### Получение ID частного телеграмм-канала\n",
    "- Создать открытый телеграмм-канал\n",
    "- Присвоить переменной **url** адрес канала\n",
    "- **Добавить в администраторы бота!**\n",
    "- Выполнить запрос\n",
    "- Сделать канал частным\n",
    "- Скопировать **id** в конфигурационный файл\n"
   ]
  },
  {
   "cell_type": "code",
   "execution_count": null,
   "metadata": {},
   "outputs": [],
   "source": [
    "import bot_settings as bs\n",
    "import requests\n",
    "import json\n",
    "\n",
    "\n",
    "url = 'https://t.me/gftfds'\n",
    "channel_name = '@{}'.format(url.split('/')[-1])\n",
    "\n",
    "response = requests.get('https://api.telegram.org/bot{}/getChat'.format(bs.token), params=dict(\n",
    "    chat_id=channel_name))\n",
    "\n",
    "data = response.json()\n",
    "print('id = ', data['result']['id'])"
   ]
  }
 ],
 "metadata": {
  "kernelspec": {
   "display_name": "Python 3",
   "language": "python",
   "name": "python3"
  },
  "language_info": {
   "codemirror_mode": {
    "name": "ipython",
    "version": 3
   },
   "file_extension": ".py",
   "mimetype": "text/x-python",
   "name": "python",
   "nbconvert_exporter": "python",
   "pygments_lexer": "ipython3",
   "version": "3.8.5"
  }
 },
 "nbformat": 4,
 "nbformat_minor": 4
}
